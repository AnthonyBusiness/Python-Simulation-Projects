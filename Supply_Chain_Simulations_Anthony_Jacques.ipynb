{
  "nbformat": 4,
  "nbformat_minor": 0,
  "metadata": {
    "colab": {
      "name": "Supply_Chain_Simulations_Anthony_Jacques.ipynb",
      "provenance": [],
      "collapsed_sections": []
    },
    "kernelspec": {
      "name": "python3",
      "display_name": "Python 3"
    },
    "language_info": {
      "name": "python"
    }
  },
  "cells": [
    {
      "cell_type": "markdown",
      "source": [
        "##### 2. [11 pts] Bob owns a root beer manufacturing plant in a far-off land where the basic monetary unit is the Herald.  As the CEO, Bob would like to make some long-range projections for his business.  After some forethought about how the business works, Bob asks you to do some calculations to see if anything worthwhile can be gleaned about the future.  Bob observes the following:\n",
        "* Every quarter, the business spends 90% of what it collects in profits in the previous quarter.\n",
        "* 2 thousand Heralds plus 8% of the company’s net worth last quarter gets invested each quarter.\n",
        "*\tEach quarter’s net worth is 300,000 Heralds plus 185% of the sum of that quarter’s business spending and that quarter’s investments.\n",
        "*\tEach quarter’s profits are 20% of that quarter’s net worth.\n",
        "*\tRevenue each quarter is 54,000 Heralds plus 70% of the difference between that quarter’s net worth and that quarter’s profits.\n",
        "\n",
        "a)\tWrite five difference equations to represent this business model. [5 pts]\\\n",
        "b)\tExpress these difference equations in the form $\\vec{x}_{n+1} = T \\vec{x}_n + \\vec{b}$  where the elements of $\\vec{x}_n$  are the business spending, investment, net worth, profits, and revenue in period $n$, $\\vec{b}$ are the constants in the difference equations, and $T$ is the coefficient matrix for the difference equations. [2 pts]\\\n",
        "c)\tWhat is the equilibrium for business spending, investment, net worth, profits, and revenue? [2 pts] \\\n",
        "d)\tHow would you determine if this equilibrium is stable? [2 pts]\n"
      ],
      "metadata": {
        "id": "bJzQKlit0HsM"
      }
    },
    {
      "cell_type": "markdown",
      "source": [
        "a) Difference Equations\n",
        "  $$\n",
        "  \\begin{align}\n",
        "  Spend_{n+1} &= 0.9P_n \\\\\n",
        "  Invest_{n+1} &= 0.08Net_n + 2000 \\\\\n",
        "  Net_{n+1} &= 0.148Net_n + 1.665P_n + 303700 \\\\\n",
        "  P{n+1} & = 0.0296Net_n + 0.333P_n + 60740 \\text{  (This is just 20% of the above) } \\\\ \n",
        "  Rev_{n+1} &= 0.08288Net_n + 0.9324P_n + 224072 \\\\\n",
        "  \\end{align}\n",
        "  $$\n",
        "\n",
        "b) \n",
        "$$\n",
        "\\begin{bmatrix}\n",
        "  Spend_{n+1} \\\\\n",
        "  Invest_{n+1}\\\\\n",
        "  Net_{n+1} \\\\ \n",
        "  P{n+1} \\\\ \n",
        "  Rev_{n+1} \\\\\n",
        "\\end{bmatrix}\n",
        "=\n",
        "\\begin{bmatrix}\n",
        "0 & 0 & 0 & 0.9 & 0 \\\\ \n",
        "0 & 0 & 0.08 & 0 & 0 \\\\ \n",
        "0 & 0 & 0.148 & 1.665 & 0 \\\\ \n",
        "0 & 0 & 0.296 & 0.333 & 0 \\\\ \n",
        "0 & 0 & 0.8288 & 0.9324 & 0 \\\\\n",
        "\\end{bmatrix}\n",
        "\\vec x_{n} + \n",
        "\\begin{bmatrix}\n",
        "  0 \\\\\n",
        "  2000 \\\\ \n",
        "  303700 \\\\\n",
        "  60740 \\\\ \n",
        "  224072 \\\\ \n",
        "\\end{bmatrix}\n",
        "$$\n",
        "\n",
        "\n",
        "d) We could tell if the equilibrium's are stable if we picked an arbitrary point close to the equilibruim. If the after multiple iterations we found that we were moving closer to equilibrium, then we the equlibrium would be considered stable. Specificaly though, since we are working in the multivariate case, if the eigenvalues are less than or equal to 1 and at least one eigen value is strictly less than 1, then the equilibruim is stable.  "
      ],
      "metadata": {
        "id": "bnMERKc-Zjks"
      }
    },
    {
      "cell_type": "code",
      "source": [
        "#c) \n",
        "\n",
        "from numpy import linalg as la\n",
        "\n",
        "coeff = [[0,0,0,0.9,0],\n",
        "         [0,0,0.08,0,0],\n",
        "         [0,0,0.148,1.665,0],\n",
        "         [0,0,0.296,0.333,0],\n",
        "         [0,0,0.8288,0.9324,0]]\n",
        "la.eig(np.array(coeff))\n"
      ],
      "metadata": {
        "colab": {
          "base_uri": "https://localhost:8080/"
        },
        "id": "mcze4U2b8EAg",
        "outputId": "9e8939f6-9f47-4da7-a270-07364c392c83"
      },
      "execution_count": null,
      "outputs": [
        {
          "output_type": "execute_result",
          "data": {
            "text/plain": [
              "(array([ 0.        ,  0.        ,  0.        ,  0.94859339, -0.46759339]),\n",
              " array([[ 1.        ,  0.        ,  0.        ,  0.25270433,  0.42959048],\n",
              "        [ 0.        ,  1.        ,  0.        ,  0.04671565, -0.10328147],\n",
              "        [ 0.        ,  0.        ,  0.        ,  0.55392696,  0.60367166],\n",
              "        [ 0.        ,  0.        ,  0.        ,  0.26634851, -0.22319296],\n",
              "        [ 0.        ,  0.        ,  1.        ,  0.74577582, -0.6249403 ]]))"
            ]
          },
          "metadata": {},
          "execution_count": 407
        }
      ]
    },
    {
      "cell_type": "markdown",
      "source": [
        "##### 3.\t[4 pts] Consider the Root Beer Game:\n",
        "a)\tWhat was one thing about the game that was not “real”?  [1 pt]\\\n",
        "b)\tAs a decision maker in the game, what did you learn? [1 pt]\\\n",
        "c)\tList two ways you would redesign this supply chain to better fill customer demands and reduce costs? [2 pts]"
      ],
      "metadata": {
        "id": "sqeEdc3MGVfj"
      }
    },
    {
      "cell_type": "markdown",
      "source": [
        "a) One thing that was not real was the consistency of the demand. In the real world, customer demand is usually much more erratic and much less pradictable \n",
        "\n",
        "b) I learned that having to do quick math to make orders based on the demand given while trying to calculate what orders I placed two turns ago leads to many errors. \n",
        "\n",
        "c.1) I would allow each person (factory, distributor) to communicate because once we *all* know that the demand is constant, we can do a just in time order policy. \n",
        "\n",
        "c.2) I would reduce the lag time to 0 therefore making orders and deliverys much easier to calculate. "
      ],
      "metadata": {
        "id": "u-BqbjNYGalz"
      }
    },
    {
      "cell_type": "markdown",
      "source": [
        "##### 4. [8 pts] Now consider the factory simulation developed in class.\n",
        "a)\tDerive an equation that can be used to determine the quantity to order each period.  This should be a function of inventory/backorders, orders, and/or demands up to that point in time.  Clearly explain this formula and why you think it is preferred to simply ordering what was just demanded. [5 pts]"
      ],
      "metadata": {
        "id": "w64IoC9AJQjx"
      }
    },
    {
      "cell_type": "markdown",
      "source": [
        "This if statment checks to see if there are backorders. If there are backorders, we want our orders to increase based on what we just got delivered and our demand. We want more orders to make up for the back orders \\\\\n",
        "\n",
        "$\\text{ If Previous Inventory}  < 0:$ \\\\\n",
        " $order =  demand +0.1 \\cdot delivery $ \\\\\n",
        "This if statment checks if we have positive inventory. If we do then we want to minimize the amount of inventory to reduce cost, therefore we reduce the amount we order by subtracting a portion of our previous inventory from the demand. \\\\\n",
        "$\\text{ If Previous Inventory}  >= 0:$ \\\\\n",
        "      $order = demand - .16 \\cdot resource$ \\\\"
      ],
      "metadata": {
        "id": "urhqrbddKFpY"
      }
    },
    {
      "cell_type": "markdown",
      "source": [
        "4 b)\tImplement the formula in the Python factory model and calculate the costs for each of the five demands provided and the sum of the costs. You will likely need to add code to make the calculation including adding a global variable or pass a variable. Please mark the code you add or change with a comment. [3 pt]"
      ],
      "metadata": {
        "id": "7Hzdt80BNUk5"
      }
    },
    {
      "cell_type": "code",
      "source": [
        "import numpy as np\n",
        "import pandas as pd"
      ],
      "metadata": {
        "id": "1Eu5dDskGnQp"
      },
      "execution_count": null,
      "outputs": []
    },
    {
      "cell_type": "code",
      "source": [
        "url = 'https://raw.githubusercontent.com/ialara/or-student/main/Data/Demands.csv'\n",
        "demands = pd.read_csv(url, index_col=0)\n",
        "demands"
      ],
      "metadata": {
        "id": "-vLh1L63Gwwf",
        "colab": {
          "base_uri": "https://localhost:8080/",
          "height": 311
        },
        "outputId": "e91d5b35-a36e-4a15-a4d4-2285fc69e696"
      },
      "execution_count": null,
      "outputs": [
        {
          "output_type": "execute_result",
          "data": {
            "text/plain": [
              "         Day 1  Day 2  Day 3  Day 4  Day 5  Day 6  Day 7  Day 8  Day 9  \\\n",
              "Demands                                                                  \n",
              "1            4      4      4      4      4      4      4      8      8   \n",
              "2            4      4      4      4      4      4      4      2      2   \n",
              "3            4      4      4      4      4      4      4      5      5   \n",
              "4            4      4      4      4      4      4      4      8      8   \n",
              "5            4      4      4      4      4      4      4      5      6   \n",
              "\n",
              "         Day 10  ...  Day 26  Day 27  Day 28  Day 29  Day 30  Day 31  Day 32  \\\n",
              "Demands          ...                                                           \n",
              "1             8  ...       8       8       8       8       8       8       8   \n",
              "2             2  ...       2       2       2       2       2       2       2   \n",
              "3             5  ...       9       9      10      10      10      10      11   \n",
              "4             8  ...       4       4       3       3       3       3       2   \n",
              "5             7  ...       8       7       6       5       4       3       2   \n",
              "\n",
              "         Day 33  Day 34  Day 35  \n",
              "Demands                          \n",
              "1             8       8       8  \n",
              "2             2       2       2  \n",
              "3            11      11      11  \n",
              "4             2       2       2  \n",
              "5             2       3       4  \n",
              "\n",
              "[5 rows x 35 columns]"
            ],
            "text/html": [
              "\n",
              "  <div id=\"df-be8523d2-92d9-40f3-bc6b-d640bc74ffad\">\n",
              "    <div class=\"colab-df-container\">\n",
              "      <div>\n",
              "<style scoped>\n",
              "    .dataframe tbody tr th:only-of-type {\n",
              "        vertical-align: middle;\n",
              "    }\n",
              "\n",
              "    .dataframe tbody tr th {\n",
              "        vertical-align: top;\n",
              "    }\n",
              "\n",
              "    .dataframe thead th {\n",
              "        text-align: right;\n",
              "    }\n",
              "</style>\n",
              "<table border=\"1\" class=\"dataframe\">\n",
              "  <thead>\n",
              "    <tr style=\"text-align: right;\">\n",
              "      <th></th>\n",
              "      <th>Day 1</th>\n",
              "      <th>Day 2</th>\n",
              "      <th>Day 3</th>\n",
              "      <th>Day 4</th>\n",
              "      <th>Day 5</th>\n",
              "      <th>Day 6</th>\n",
              "      <th>Day 7</th>\n",
              "      <th>Day 8</th>\n",
              "      <th>Day 9</th>\n",
              "      <th>Day 10</th>\n",
              "      <th>...</th>\n",
              "      <th>Day 26</th>\n",
              "      <th>Day 27</th>\n",
              "      <th>Day 28</th>\n",
              "      <th>Day 29</th>\n",
              "      <th>Day 30</th>\n",
              "      <th>Day 31</th>\n",
              "      <th>Day 32</th>\n",
              "      <th>Day 33</th>\n",
              "      <th>Day 34</th>\n",
              "      <th>Day 35</th>\n",
              "    </tr>\n",
              "    <tr>\n",
              "      <th>Demands</th>\n",
              "      <th></th>\n",
              "      <th></th>\n",
              "      <th></th>\n",
              "      <th></th>\n",
              "      <th></th>\n",
              "      <th></th>\n",
              "      <th></th>\n",
              "      <th></th>\n",
              "      <th></th>\n",
              "      <th></th>\n",
              "      <th></th>\n",
              "      <th></th>\n",
              "      <th></th>\n",
              "      <th></th>\n",
              "      <th></th>\n",
              "      <th></th>\n",
              "      <th></th>\n",
              "      <th></th>\n",
              "      <th></th>\n",
              "      <th></th>\n",
              "      <th></th>\n",
              "    </tr>\n",
              "  </thead>\n",
              "  <tbody>\n",
              "    <tr>\n",
              "      <th>1</th>\n",
              "      <td>4</td>\n",
              "      <td>4</td>\n",
              "      <td>4</td>\n",
              "      <td>4</td>\n",
              "      <td>4</td>\n",
              "      <td>4</td>\n",
              "      <td>4</td>\n",
              "      <td>8</td>\n",
              "      <td>8</td>\n",
              "      <td>8</td>\n",
              "      <td>...</td>\n",
              "      <td>8</td>\n",
              "      <td>8</td>\n",
              "      <td>8</td>\n",
              "      <td>8</td>\n",
              "      <td>8</td>\n",
              "      <td>8</td>\n",
              "      <td>8</td>\n",
              "      <td>8</td>\n",
              "      <td>8</td>\n",
              "      <td>8</td>\n",
              "    </tr>\n",
              "    <tr>\n",
              "      <th>2</th>\n",
              "      <td>4</td>\n",
              "      <td>4</td>\n",
              "      <td>4</td>\n",
              "      <td>4</td>\n",
              "      <td>4</td>\n",
              "      <td>4</td>\n",
              "      <td>4</td>\n",
              "      <td>2</td>\n",
              "      <td>2</td>\n",
              "      <td>2</td>\n",
              "      <td>...</td>\n",
              "      <td>2</td>\n",
              "      <td>2</td>\n",
              "      <td>2</td>\n",
              "      <td>2</td>\n",
              "      <td>2</td>\n",
              "      <td>2</td>\n",
              "      <td>2</td>\n",
              "      <td>2</td>\n",
              "      <td>2</td>\n",
              "      <td>2</td>\n",
              "    </tr>\n",
              "    <tr>\n",
              "      <th>3</th>\n",
              "      <td>4</td>\n",
              "      <td>4</td>\n",
              "      <td>4</td>\n",
              "      <td>4</td>\n",
              "      <td>4</td>\n",
              "      <td>4</td>\n",
              "      <td>4</td>\n",
              "      <td>5</td>\n",
              "      <td>5</td>\n",
              "      <td>5</td>\n",
              "      <td>...</td>\n",
              "      <td>9</td>\n",
              "      <td>9</td>\n",
              "      <td>10</td>\n",
              "      <td>10</td>\n",
              "      <td>10</td>\n",
              "      <td>10</td>\n",
              "      <td>11</td>\n",
              "      <td>11</td>\n",
              "      <td>11</td>\n",
              "      <td>11</td>\n",
              "    </tr>\n",
              "    <tr>\n",
              "      <th>4</th>\n",
              "      <td>4</td>\n",
              "      <td>4</td>\n",
              "      <td>4</td>\n",
              "      <td>4</td>\n",
              "      <td>4</td>\n",
              "      <td>4</td>\n",
              "      <td>4</td>\n",
              "      <td>8</td>\n",
              "      <td>8</td>\n",
              "      <td>8</td>\n",
              "      <td>...</td>\n",
              "      <td>4</td>\n",
              "      <td>4</td>\n",
              "      <td>3</td>\n",
              "      <td>3</td>\n",
              "      <td>3</td>\n",
              "      <td>3</td>\n",
              "      <td>2</td>\n",
              "      <td>2</td>\n",
              "      <td>2</td>\n",
              "      <td>2</td>\n",
              "    </tr>\n",
              "    <tr>\n",
              "      <th>5</th>\n",
              "      <td>4</td>\n",
              "      <td>4</td>\n",
              "      <td>4</td>\n",
              "      <td>4</td>\n",
              "      <td>4</td>\n",
              "      <td>4</td>\n",
              "      <td>4</td>\n",
              "      <td>5</td>\n",
              "      <td>6</td>\n",
              "      <td>7</td>\n",
              "      <td>...</td>\n",
              "      <td>8</td>\n",
              "      <td>7</td>\n",
              "      <td>6</td>\n",
              "      <td>5</td>\n",
              "      <td>4</td>\n",
              "      <td>3</td>\n",
              "      <td>2</td>\n",
              "      <td>2</td>\n",
              "      <td>3</td>\n",
              "      <td>4</td>\n",
              "    </tr>\n",
              "  </tbody>\n",
              "</table>\n",
              "<p>5 rows × 35 columns</p>\n",
              "</div>\n",
              "      <button class=\"colab-df-convert\" onclick=\"convertToInteractive('df-be8523d2-92d9-40f3-bc6b-d640bc74ffad')\"\n",
              "              title=\"Convert this dataframe to an interactive table.\"\n",
              "              style=\"display:none;\">\n",
              "        \n",
              "  <svg xmlns=\"http://www.w3.org/2000/svg\" height=\"24px\"viewBox=\"0 0 24 24\"\n",
              "       width=\"24px\">\n",
              "    <path d=\"M0 0h24v24H0V0z\" fill=\"none\"/>\n",
              "    <path d=\"M18.56 5.44l.94 2.06.94-2.06 2.06-.94-2.06-.94-.94-2.06-.94 2.06-2.06.94zm-11 1L8.5 8.5l.94-2.06 2.06-.94-2.06-.94L8.5 2.5l-.94 2.06-2.06.94zm10 10l.94 2.06.94-2.06 2.06-.94-2.06-.94-.94-2.06-.94 2.06-2.06.94z\"/><path d=\"M17.41 7.96l-1.37-1.37c-.4-.4-.92-.59-1.43-.59-.52 0-1.04.2-1.43.59L10.3 9.45l-7.72 7.72c-.78.78-.78 2.05 0 2.83L4 21.41c.39.39.9.59 1.41.59.51 0 1.02-.2 1.41-.59l7.78-7.78 2.81-2.81c.8-.78.8-2.07 0-2.86zM5.41 20L4 18.59l7.72-7.72 1.47 1.35L5.41 20z\"/>\n",
              "  </svg>\n",
              "      </button>\n",
              "      \n",
              "  <style>\n",
              "    .colab-df-container {\n",
              "      display:flex;\n",
              "      flex-wrap:wrap;\n",
              "      gap: 12px;\n",
              "    }\n",
              "\n",
              "    .colab-df-convert {\n",
              "      background-color: #E8F0FE;\n",
              "      border: none;\n",
              "      border-radius: 50%;\n",
              "      cursor: pointer;\n",
              "      display: none;\n",
              "      fill: #1967D2;\n",
              "      height: 32px;\n",
              "      padding: 0 0 0 0;\n",
              "      width: 32px;\n",
              "    }\n",
              "\n",
              "    .colab-df-convert:hover {\n",
              "      background-color: #E2EBFA;\n",
              "      box-shadow: 0px 1px 2px rgba(60, 64, 67, 0.3), 0px 1px 3px 1px rgba(60, 64, 67, 0.15);\n",
              "      fill: #174EA6;\n",
              "    }\n",
              "\n",
              "    [theme=dark] .colab-df-convert {\n",
              "      background-color: #3B4455;\n",
              "      fill: #D2E3FC;\n",
              "    }\n",
              "\n",
              "    [theme=dark] .colab-df-convert:hover {\n",
              "      background-color: #434B5C;\n",
              "      box-shadow: 0px 1px 3px 1px rgba(0, 0, 0, 0.15);\n",
              "      filter: drop-shadow(0px 1px 2px rgba(0, 0, 0, 0.3));\n",
              "      fill: #FFFFFF;\n",
              "    }\n",
              "  </style>\n",
              "\n",
              "      <script>\n",
              "        const buttonEl =\n",
              "          document.querySelector('#df-be8523d2-92d9-40f3-bc6b-d640bc74ffad button.colab-df-convert');\n",
              "        buttonEl.style.display =\n",
              "          google.colab.kernel.accessAllowed ? 'block' : 'none';\n",
              "\n",
              "        async function convertToInteractive(key) {\n",
              "          const element = document.querySelector('#df-be8523d2-92d9-40f3-bc6b-d640bc74ffad');\n",
              "          const dataTable =\n",
              "            await google.colab.kernel.invokeFunction('convertToInteractive',\n",
              "                                                     [key], {});\n",
              "          if (!dataTable) return;\n",
              "\n",
              "          const docLinkHtml = 'Like what you see? Visit the ' +\n",
              "            '<a target=\"_blank\" href=https://colab.research.google.com/notebooks/data_table.ipynb>data table notebook</a>'\n",
              "            + ' to learn more about interactive tables.';\n",
              "          element.innerHTML = '';\n",
              "          dataTable['output_type'] = 'display_data';\n",
              "          await google.colab.output.renderOutput(dataTable, element);\n",
              "          const docLink = document.createElement('div');\n",
              "          docLink.innerHTML = docLinkHtml;\n",
              "          element.appendChild(docLink);\n",
              "        }\n",
              "      </script>\n",
              "    </div>\n",
              "  </div>\n",
              "  "
            ]
          },
          "metadata": {},
          "execution_count": 409
        }
      ]
    },
    {
      "cell_type": "code",
      "source": [
        "#Define variables\n",
        "resources = np.zeros(35)\n",
        "shipments = np.zeros(35)\n",
        "orders = np.zeros(35)\n",
        "costs = np.zeros(5)\n",
        "\n",
        "def init():\n",
        "  global resources\n",
        "  global shipments\n",
        "  global orders\n",
        "  resources[:5] = 12\n",
        "  shipments[:5] = 4\n",
        "  orders[:5] = 4\n",
        "\n",
        "def One_Week(last_resource, delivery, demand):\n",
        "  resource = last_resource + delivery - demand\n",
        "  if last_resource >= 0:\n",
        "    shipment = min(last_resource + delivery, demand)\n",
        "  else:\n",
        "    shipment = min(delivery, -last_resource + demand)\n",
        "\n",
        "  #****Your formula goes here*****\n",
        "  if last_resource < 0: \n",
        "      order =  demand +0.1*delivery #This is implementing the above formula which gives a cost of ~465 for the factory\n",
        "  if last_resource >= 0: \n",
        "      order = demand - .16*resource \n",
        "  \n",
        "\n",
        "  return resource, shipment, order\n",
        "\n",
        "def All_Weeks(demand_index, resources):\n",
        "  for week in range(5, 35):\n",
        "    resources[week], shipments[week], orders[week] = One_Week(resources[week-1], \\\n",
        "        orders[week-2], demands.iloc[demand_index][week])\n",
        "  return resources\n",
        "\n",
        "init()\n",
        "for demand_index in range(5):  \n",
        "  resources = All_Weeks(demand_index, resources)\n",
        "  costs[demand_index] = 0.5*np.sum(resources*(resources>0)) - np.sum(resources*(resources<0))\n",
        "    #Array of zeros and 1's is the \n",
        "\n",
        "print(costs, np.sum(costs))"
      ],
      "metadata": {
        "id": "K3DX4uocFoYB",
        "colab": {
          "base_uri": "https://localhost:8080/"
        },
        "outputId": "af6a97d5-a9b0-420c-c87f-657cce266193"
      },
      "execution_count": null,
      "outputs": [
        {
          "output_type": "stream",
          "name": "stdout",
          "text": [
            "[ 53.04310108  79.92146818  67.75226559  82.0337022  122.96127749] 405.71181453779957\n"
          ]
        }
      ]
    },
    {
      "cell_type": "markdown",
      "source": [
        "##### 5.\t[16 pts] We will now expand the Factory simulation to simulate the entire four-player supply chain.  We will do this in steps.\n",
        "a)\tThe numpy arrays resources, shipments, and orders need to be changed to two-dimensional arrays with the first dimension the player (0 for the factory, 1 for the distributor, 2 for the wholesaler and 3 for the retailer) and the second dimension for the week. The init function must also be appropriately changed to include the starting conditions for all four players. Perform these changes. [6 pts]\n",
        "\n",
        "(Note: I have also added the numpy array \"customer\" for the customer satifaction metric.)"
      ],
      "metadata": {
        "id": "hpknmX2xEba_"
      }
    },
    {
      "cell_type": "code",
      "source": [
        "resources = np.zeros((4,36)) #Creating an array where each row is a player and each column is a week \n",
        "shipments = np.zeros((4,36))\n",
        "orders = np.zeros((4,36))\n",
        "customer = np.zeros(5)\n",
        "\n",
        "def init():\n",
        "  global resources #Defining the variables as globals to keep consistent throughout the code \n",
        "  global shipments\n",
        "  global orders\n",
        "  resources[:,:5] = 12 #Setting the first 5 weeks for all players to have resources of 12 \n",
        "  shipments[:,:5] = 4 #Setting the first 5 weeks for all players to have shipments of 4\n",
        "  orders[:,:5] = 4 #Setting the first 5 weeks for all players to have orders of 4\n"
      ],
      "metadata": {
        "id": "kDtITtKp03yS"
      },
      "execution_count": null,
      "outputs": []
    },
    {
      "cell_type": "markdown",
      "source": [
        "b)\tWe now add a function to cycle through each player in a given week.  To  simplify passing the resources, shipments, and orders arrays, we make them globals. Your job is to define delivery and demands for each of the players in terms of the arrays shipments, orders, and customer demand. [4 pts]"
      ],
      "metadata": {
        "id": "FU3oo6GoHMLM"
      }
    },
    {
      "cell_type": "code",
      "source": [
        "def All_Players(demand_index, week):\n",
        "  global resources\n",
        "  global shipments\n",
        "  global orders\n",
        "  for player in range(4):\n",
        "        #Supply the logic for defining delivery and demand for each player\n",
        "    #If the player is the factory, then the delivery is just the order it made two weeks prior \n",
        "    if player == 0:  \n",
        "      delivery = orders[player][week-2]\n",
        "    #If the player is not the facotry then the delivery is just the shipment the previous player made two weeks ago \n",
        "    else:  \n",
        "      delivery = shipments[player-1][week-2]\n",
        "    #If the player is the retailer, he gets his demand from the customer which is taken form the demands table \n",
        "    if player == 3: \n",
        "      demand = demands.iloc[demand_index][week]\n",
        "    #If the player is anyone else, their demand is the order from the player ahead of them, two weeks prior \n",
        "    else:\n",
        "      demand = orders[player+1][week-2]\n",
        "    \n",
        "         \n",
        "        \n",
        "        \n",
        "    resources[player][week], shipments[player][week], orders[player][week] = \\\n",
        "           One_Week(resources[player][week-1], delivery, demand)"
      ],
      "metadata": {
        "id": "zWHZ63oXHKrt"
      },
      "execution_count": null,
      "outputs": []
    },
    {
      "cell_type": "markdown",
      "source": [
        "c)\tSince resources are defined as a global in All_Players, it is unnecessary to include it as an argument or a return value for All_Weeks. I have made these changes to the prior version of the function.\n",
        "\n",
        "We do need to record the customer satisfaction for each customer demand in the customer array. This will be equivalent to the cumulative customer backorders. Your job is to add the code to calculate the customer satisfaction for each of the demands.  Put your code in the line noted below. [2 pts]"
      ],
      "metadata": {
        "id": "3OeSHPmNdQ6q"
      }
    },
    {
      "cell_type": "code",
      "source": [
        "def All_Weeks(demand_index):\n",
        "  for week in range(5,35):\n",
        "    All_Players(demand_index, week)\n",
        "\n",
        "init()\n",
        "for demand_index in range(5):\n",
        "  All_Weeks(demand_index)\n",
        "  costs[demand_index] = 0.5*np.sum(resources*(resources>0)) - np.sum(resources*(resources<0))\n",
        "  \n",
        "  #Supply the equation for the customer satisfaction for demand  specified by demand_index.\n",
        "  #Customer satesfaction is equal to the sum of the backorders (which are negative, therefore the more negative, the lower the satesfaction)\n",
        "  customer[demand_index] = np.sum(resources*(resources<0)) \n",
        "\n",
        "print(costs, np.sum(costs))\n",
        "print(customer, np.sum(customer))"
      ],
      "metadata": {
        "id": "I3H8aTpmdVCn",
        "colab": {
          "base_uri": "https://localhost:8080/"
        },
        "outputId": "8e281f59-eafe-471e-8ffa-f4c2b9fcc266"
      },
      "execution_count": null,
      "outputs": [
        {
          "output_type": "stream",
          "name": "stdout",
          "text": [
            "[3005.88269318 2173.78868935 3378.31759539 1696.37904954 1807.15209939] 12061.520126854975\n",
            "[-2719.37581318 -1675.08140569 -3045.65384371 -1337.54697231\n",
            " -1491.61360339] -10269.271638286491\n"
          ]
        }
      ]
    },
    {
      "cell_type": "markdown",
      "source": [
        "d)\tChange the order equation in the One_Week function back to \"order = demand\". Supply the results from the two print statements at the bottom of the code. [4 pts]"
      ],
      "metadata": {
        "id": "bqCJIOgsFVLY"
      }
    },
    {
      "cell_type": "markdown",
      "source": [
        "[ 808. 1177.  890.  645.  646.] 4166.0\n",
        "\n",
        "[-504.    0. -488.  -42.  -24.] -1058.0"
      ],
      "metadata": {
        "id": "PRwciuDbGP-p"
      }
    },
    {
      "cell_type": "code",
      "source": [
        ""
      ],
      "metadata": {
        "id": "iqe-NlvIEDm5"
      },
      "execution_count": null,
      "outputs": []
    }
  ]
}